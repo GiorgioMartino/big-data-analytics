{
 "cells": [
  {
   "cell_type": "markdown",
   "metadata": {},
   "source": [
    "# Quick setup to get started with Airlines DB\n",
    "\n",
    "#### Install MongoDB\n",
    "Depending on current OS\n",
    "\n",
    "#### Install PyMongo\n",
    "`pip install pymongo`\n",
    "\n",
    "#### Start MongoDB\n",
    "`sudo systemctl start mongod`\n"
   ]
  },
  {
   "cell_type": "markdown",
   "metadata": {},
   "source": [
    "## About the DB\n",
    "This collection contains data of USA airports from 2003 to 2016. \n",
    "\n",
    "\n",
    "Each document mainly contains info about flights and delays, divided by Airport, Month and Year.\n",
    "\n",
    "To find out more visit the [CORGIS Dataset Project](https://think.cs.vt.edu/corgis/json/airlines/)"
   ]
  },
  {
   "cell_type": "markdown",
   "metadata": {},
   "source": [
    "\n",
    "\n",
    "\n",
    "# Connect and select DB\n",
    "\n",
    "Using PyMongo we can easily connect to MongoDB, and then select the DB and Collection from the list."
   ]
  },
  {
   "cell_type": "code",
   "execution_count": 4,
   "metadata": {},
   "outputs": [
    {
     "name": "stdout",
     "output_type": "stream",
     "text": [
      "Connected successfully!\n",
      "['admin', 'config', 'local']\n",
      "['delays']\n"
     ]
    }
   ],
   "source": [
    "from pymongo import MongoClient\n",
    "\n",
    "try:\n",
    "    client = MongoClient('localhost', 27017)\n",
    "    print(\"Connected successfully!\")\n",
    "except:\n",
    "    print(\"Could not connect to MongoDB\")    \n",
    "\n",
    "print(client.list_database_names())\n",
    "\n",
    "db = client.airlines\n",
    "\n",
    "try:\n",
    "    db.create_collection('delays')\n",
    "except:\n",
    "    print('Already existing')\n",
    "print(db.list_collection_names())\n",
    "\n",
    "delays = db.delays"
   ]
  },
  {
   "cell_type": "markdown",
   "metadata": {},
   "source": [
    "# Load data into DB\n",
    "\n",
    "\n",
    "#### Insert one object"
   ]
  },
  {
   "cell_type": "code",
   "execution_count": 2,
   "metadata": {},
   "outputs": [
    {
     "data": {
      "text/plain": [
       "<pymongo.results.InsertOneResult at 0x7f0488f6ac00>"
      ]
     },
     "execution_count": 2,
     "metadata": {},
     "output_type": "execute_result"
    }
   ],
   "source": [
    "obj = {\"Uno\":1}\n",
    "delays.insert_one(obj)"
   ]
  },
  {
   "cell_type": "markdown",
   "metadata": {},
   "source": [
    "### Drop Collection. "
   ]
  },
  {
   "cell_type": "code",
   "execution_count": 3,
   "metadata": {},
   "outputs": [
    {
     "name": "stdout",
     "output_type": "stream",
     "text": [
      "Deleted\n"
     ]
    }
   ],
   "source": [
    "try:\n",
    "    delays.drop()\n",
    "    print('Deleted')\n",
    "except:\n",
    "    print('Error deleting Collection')"
   ]
  },
  {
   "cell_type": "markdown",
   "metadata": {},
   "source": [
    "#### Insert data from file"
   ]
  },
  {
   "cell_type": "code",
   "execution_count": 5,
   "metadata": {},
   "outputs": [
    {
     "data": {
      "text/plain": [
       "<pymongo.results.InsertManyResult at 0x7f0471772080>"
      ]
     },
     "execution_count": 5,
     "metadata": {},
     "output_type": "execute_result"
    }
   ],
   "source": [
    "import json\n",
    "\n",
    "with open('airlines.json') as f:\n",
    "    data = json.load(f)\n",
    "\n",
    "delays.insert_many(data)"
   ]
  },
  {
   "cell_type": "markdown",
   "metadata": {},
   "source": [
    "#### To find all the records\n",
    "\n",
    "Iterate and print the first 3 documents"
   ]
  },
  {
   "cell_type": "code",
   "execution_count": 6,
   "metadata": {},
   "outputs": [
    {
     "name": "stdout",
     "output_type": "stream",
     "text": [
      "{'Airport': {'Code': 'ATL',\n",
      "             'Name': 'Atlanta, GA: Hartsfield-Jackson Atlanta International'},\n",
      " 'Statistics': {'# of Delays': {'Carrier': 1009,\n",
      "                                'Late Aircraft': 1275,\n",
      "                                'National Aviation System': 3217,\n",
      "                                'Security': 17,\n",
      "                                'Weather': 328},\n",
      "                'Carriers': {'Names': 'American Airlines Inc.,JetBlue '\n",
      "                                      'Airways,Continental Air Lines '\n",
      "                                      'Inc.,Delta Air Lines Inc.,Atlantic '\n",
      "                                      'Southeast Airlines,AirTran Airways '\n",
      "                                      'Corporation,America West Airlines '\n",
      "                                      'Inc.,Northwest Airlines Inc.,ExpressJet '\n",
      "                                      'Airlines Inc.,United Air Lines Inc.,US '\n",
      "                                      'Airways Inc.',\n",
      "                             'Total': 11},\n",
      "                'Flights': {'Cancelled': 216,\n",
      "                            'Delayed': 5843,\n",
      "                            'Diverted': 27,\n",
      "                            'On Time': 23974,\n",
      "                            'Total': 30060},\n",
      "                'Minutes Delayed': {'Carrier': 61606,\n",
      "                                    'Late Aircraft': 68335,\n",
      "                                    'National Aviation System': 118831,\n",
      "                                    'Security': 518,\n",
      "                                    'Total': 268764,\n",
      "                                    'Weather': 19474}},\n",
      " 'Time': {'Label': '2003/06', 'Month': 6, 'Month Name': 'June', 'Year': 2003},\n",
      " '_id': ObjectId('5fa07b1dc2579ee77e2dd88d')}\n",
      "{'Airport': {'Code': 'ATL',\n",
      "             'Name': 'Atlanta, GA: Hartsfield-Jackson Atlanta International'},\n",
      " 'Statistics': {'# of Delays': {'Carrier': 1009,\n",
      "                                'Late Aircraft': 1275,\n",
      "                                'National Aviation System': 3217,\n",
      "                                'Security': 17,\n",
      "                                'Weather': 328},\n",
      "                'Carriers': {'Names': 'American Airlines Inc.,JetBlue '\n",
      "                                      'Airways,Continental Air Lines '\n",
      "                                      'Inc.,Delta Air Lines Inc.,Atlantic '\n",
      "                                      'Southeast Airlines,AirTran Airways '\n",
      "                                      'Corporation,America West Airlines '\n",
      "                                      'Inc.,Northwest Airlines Inc.,ExpressJet '\n",
      "                                      'Airlines Inc.,United Air Lines Inc.,US '\n",
      "                                      'Airways Inc.',\n",
      "                             'Total': 11},\n",
      "                'Flights': {'Cancelled': 216,\n",
      "                            'Delayed': 5843,\n",
      "                            'Diverted': 27,\n",
      "                            'On Time': 23974,\n",
      "                            'Total': 30060},\n",
      "                'Minutes Delayed': {'Carrier': 61606,\n",
      "                                    'Late Aircraft': 68335,\n",
      "                                    'National Aviation System': 118831,\n",
      "                                    'Security': 518,\n",
      "                                    'Total': 268764,\n",
      "                                    'Weather': 19474}},\n",
      " 'Time': {'Label': '2003/06', 'Month': 6, 'Month Name': 'June', 'Year': 2003},\n",
      " '_id': ObjectId('5fa07b1dc2579ee77e2dd88d')}\n",
      "{'Airport': {'Code': 'ATL',\n",
      "             'Name': 'Atlanta, GA: Hartsfield-Jackson Atlanta International'},\n",
      " 'Statistics': {'# of Delays': {'Carrier': 1009,\n",
      "                                'Late Aircraft': 1275,\n",
      "                                'National Aviation System': 3217,\n",
      "                                'Security': 17,\n",
      "                                'Weather': 328},\n",
      "                'Carriers': {'Names': 'American Airlines Inc.,JetBlue '\n",
      "                                      'Airways,Continental Air Lines '\n",
      "                                      'Inc.,Delta Air Lines Inc.,Atlantic '\n",
      "                                      'Southeast Airlines,AirTran Airways '\n",
      "                                      'Corporation,America West Airlines '\n",
      "                                      'Inc.,Northwest Airlines Inc.,ExpressJet '\n",
      "                                      'Airlines Inc.,United Air Lines Inc.,US '\n",
      "                                      'Airways Inc.',\n",
      "                             'Total': 11},\n",
      "                'Flights': {'Cancelled': 216,\n",
      "                            'Delayed': 5843,\n",
      "                            'Diverted': 27,\n",
      "                            'On Time': 23974,\n",
      "                            'Total': 30060},\n",
      "                'Minutes Delayed': {'Carrier': 61606,\n",
      "                                    'Late Aircraft': 68335,\n",
      "                                    'National Aviation System': 118831,\n",
      "                                    'Security': 518,\n",
      "                                    'Total': 268764,\n",
      "                                    'Weather': 19474}},\n",
      " 'Time': {'Label': '2003/06', 'Month': 6, 'Month Name': 'June', 'Year': 2003},\n",
      " '_id': ObjectId('5fa07b1dc2579ee77e2dd88d')}\n"
     ]
    }
   ],
   "source": [
    "from pprint import pprint\n",
    "i = 0\n",
    "for doc in delays.find():\n",
    "    while i < 3:\n",
    "        pprint(doc)\n",
    "        i+=1"
   ]
  },
  {
   "cell_type": "markdown",
   "metadata": {},
   "source": [
    "#### Find the first record matching the query"
   ]
  },
  {
   "cell_type": "code",
   "execution_count": 7,
   "metadata": {},
   "outputs": [
    {
     "name": "stdout",
     "output_type": "stream",
     "text": [
      "{'Airport': {'Code': 'ATL',\n",
      "             'Name': 'Atlanta, GA: Hartsfield-Jackson Atlanta International'},\n",
      " 'Statistics': {'# of Delays': {'Carrier': 1009,\n",
      "                                'Late Aircraft': 1275,\n",
      "                                'National Aviation System': 3217,\n",
      "                                'Security': 17,\n",
      "                                'Weather': 328},\n",
      "                'Carriers': {'Names': 'American Airlines Inc.,JetBlue '\n",
      "                                      'Airways,Continental Air Lines '\n",
      "                                      'Inc.,Delta Air Lines Inc.,Atlantic '\n",
      "                                      'Southeast Airlines,AirTran Airways '\n",
      "                                      'Corporation,America West Airlines '\n",
      "                                      'Inc.,Northwest Airlines Inc.,ExpressJet '\n",
      "                                      'Airlines Inc.,United Air Lines Inc.,US '\n",
      "                                      'Airways Inc.',\n",
      "                             'Total': 11},\n",
      "                'Flights': {'Cancelled': 216,\n",
      "                            'Delayed': 5843,\n",
      "                            'Diverted': 27,\n",
      "                            'On Time': 23974,\n",
      "                            'Total': 30060},\n",
      "                'Minutes Delayed': {'Carrier': 61606,\n",
      "                                    'Late Aircraft': 68335,\n",
      "                                    'National Aviation System': 118831,\n",
      "                                    'Security': 518,\n",
      "                                    'Total': 268764,\n",
      "                                    'Weather': 19474}},\n",
      " 'Time': {'Label': '2003/06', 'Month': 6, 'Month Name': 'June', 'Year': 2003},\n",
      " '_id': ObjectId('5fa07b1dc2579ee77e2dd88d')}\n"
     ]
    }
   ],
   "source": [
    "pprint(delays.find_one({\"Airport.Code\": \"ATL\",\n",
    "                              \"Time.Month\" : 6}))"
   ]
  },
  {
   "cell_type": "markdown",
   "metadata": {},
   "source": [
    "# Update documents\n",
    "\n",
    "#### Update one, according to query"
   ]
  },
  {
   "cell_type": "code",
   "execution_count": 8,
   "metadata": {},
   "outputs": [
    {
     "name": "stdout",
     "output_type": "stream",
     "text": [
      "1 documents updated.\n"
     ]
    }
   ],
   "source": [
    "query = {'Airport.Code' : 'ATL',\n",
    "        'Time.Year' : 2005}\n",
    "\n",
    "x = delays.update_one(query, {'$set' : {'Airport.Name' : 'Atlanta Airport - 2005'}})\n",
    "\n",
    "print(x.modified_count, \"documents updated.\") "
   ]
  },
  {
   "cell_type": "markdown",
   "metadata": {},
   "source": [
    "#### Update all documents matching the query"
   ]
  },
  {
   "cell_type": "code",
   "execution_count": 9,
   "metadata": {},
   "outputs": [
    {
     "name": "stdout",
     "output_type": "stream",
     "text": [
      "152 documents updated.\n"
     ]
    }
   ],
   "source": [
    "query = {'Airport.Code' : 'ATL'}\n",
    "\n",
    "x = delays.update_many(query, {'$set' : {'Airport.Name' : 'Atlanta International'}})\n",
    "\n",
    "print(x.modified_count, \"documents updated.\") "
   ]
  },
  {
   "cell_type": "markdown",
   "metadata": {},
   "source": [
    "# How to query the Collection\n",
    "\n",
    "#### 1. Search for the Airports with the highest number of Total Delays, during January 2010. Descending order, limit to 5 results."
   ]
  },
  {
   "cell_type": "code",
   "execution_count": 10,
   "metadata": {},
   "outputs": [
    {
     "name": "stdout",
     "output_type": "stream",
     "text": [
      "[{'Airport': {'Code': 'ATL', 'Name': 'Atlanta International'},\n",
      "  'Statistics': {'Flights': {'Cancelled': 1148,\n",
      "                             'Delayed': 5908,\n",
      "                             'Diverted': 74,\n",
      "                             'On Time': 26599,\n",
      "                             'Total': 33729}}},\n",
      " {'Airport': {'Code': 'ORD',\n",
      "              'Name': \"Chicago, IL: Chicago O'Hare International\"},\n",
      "  'Statistics': {'Flights': {'Cancelled': 927,\n",
      "                             'Delayed': 5164,\n",
      "                             'Diverted': 20,\n",
      "                             'On Time': 19349,\n",
      "                             'Total': 25460}}},\n",
      " {'Airport': {'Code': 'DFW',\n",
      "              'Name': 'Dallas/Fort Worth, TX: Dallas/Fort Worth International'},\n",
      "  'Statistics': {'Flights': {'Cancelled': 590,\n",
      "                             'Delayed': 3550,\n",
      "                             'Diverted': 97,\n",
      "                             'On Time': 18319,\n",
      "                             'Total': 22556}}},\n",
      " {'Airport': {'Code': 'DEN', 'Name': 'Denver, CO: Denver International'},\n",
      "  'Statistics': {'Flights': {'Cancelled': 307,\n",
      "                             'Delayed': 2680,\n",
      "                             'Diverted': 36,\n",
      "                             'On Time': 15976,\n",
      "                             'Total': 18999}}},\n",
      " {'Airport': {'Code': 'LAX',\n",
      "              'Name': 'Los Angeles, CA: Los Angeles International'},\n",
      "  'Statistics': {'Flights': {'Cancelled': 314,\n",
      "                             'Delayed': 2626,\n",
      "                             'Diverted': 20,\n",
      "                             'On Time': 13104,\n",
      "                             'Total': 16064}}}]\n"
     ]
    }
   ],
   "source": [
    "docs = delays.find({'$and': [{'Time.Year' : 2010}, \n",
    "                             {'Time.Month' : 1}]},\n",
    "                   {'_id':False, \n",
    "                    'Statistics.# of Delays':False,\n",
    "                    'Statistics.Carriers':False,\n",
    "                    'Statistics.Minutes Delayed':False,\n",
    "                    'Time':False\n",
    "                   }).sort('Statistics.Flights.Total',-1).limit(5)\n",
    "pprint(list(docs))"
   ]
  },
  {
   "cell_type": "markdown",
   "metadata": {},
   "source": [
    "#### 2. Report how many flights were cancelled at Los Angeles Airport, every year between 2003 - 2016"
   ]
  },
  {
   "cell_type": "code",
   "execution_count": 11,
   "metadata": {},
   "outputs": [
    {
     "name": "stdout",
     "output_type": "stream",
     "text": [
      "{'Cancelled Flights': 1654, '_id': 2003}\n",
      "{'Cancelled Flights': 2726, '_id': 2004}\n",
      "{'Cancelled Flights': 2592, '_id': 2005}\n",
      "{'Cancelled Flights': 3248, '_id': 2006}\n",
      "{'Cancelled Flights': 3417, '_id': 2007}\n",
      "{'Cancelled Flights': 3077, '_id': 2008}\n",
      "{'Cancelled Flights': 2000, '_id': 2009}\n",
      "{'Cancelled Flights': 2292, '_id': 2010}\n",
      "{'Cancelled Flights': 2764, '_id': 2011}\n",
      "{'Cancelled Flights': 2493, '_id': 2012}\n",
      "{'Cancelled Flights': 2541, '_id': 2013}\n",
      "{'Cancelled Flights': 2726, '_id': 2014}\n",
      "{'Cancelled Flights': 2337, '_id': 2015}\n",
      "{'Cancelled Flights': 297, '_id': 2016}\n"
     ]
    }
   ],
   "source": [
    "docs = delays.aggregate([{'$match': {'Airport.Code' : 'LAX'}},\n",
    "                         {'$group': {'_id' : '$Time.Year',\n",
    "                                     'Cancelled Flights' : {'$sum' : '$Statistics.Flights.Cancelled'}}},\n",
    "                         {'$sort': {'_id' : 1}} ])\n",
    "\n",
    "for doc in docs:\n",
    "    pprint(doc)"
   ]
  },
  {
   "cell_type": "markdown",
   "metadata": {},
   "source": [
    "#### 3. Find the 5 airports with the highest number of flights delayed due to weather conditions"
   ]
  },
  {
   "cell_type": "code",
   "execution_count": 12,
   "metadata": {},
   "outputs": [
    {
     "name": "stdout",
     "output_type": "stream",
     "text": [
      "{'Name': 'Atlanta International', 'Weather Delayed': 40113, '_id': 'ATL'}\n",
      "{'Name': 'Dallas/Fort Worth, TX: Dallas/Fort Worth International',\n",
      " 'Weather Delayed': 30476,\n",
      " '_id': 'DFW'}\n",
      "{'Name': \"Chicago, IL: Chicago O'Hare International\",\n",
      " 'Weather Delayed': 24358,\n",
      " '_id': 'ORD'}\n",
      "{'Name': 'New York, NY: LaGuardia', 'Weather Delayed': 16350, '_id': 'LGA'}\n",
      "{'Name': 'Denver, CO: Denver International',\n",
      " 'Weather Delayed': 15556,\n",
      " '_id': 'DEN'}\n"
     ]
    }
   ],
   "source": [
    "docs = delays.aggregate([\n",
    "    {'$group': {'_id' : '$Airport.Code',\n",
    "                'Name' : {'$first' : '$Airport.Name'},\n",
    "                'Weather Delayed': {'$sum' : '$Statistics.# of Delays.Weather'}}},\n",
    "    {'$sort': {'Weather Delayed' : -1}},\n",
    "    {'$limit': 5}\n",
    "])\n",
    "\n",
    "for doc in docs:\n",
    "    pprint(doc)"
   ]
  }
 ],
 "metadata": {
  "kernelspec": {
   "display_name": "Python 3",
   "language": "python",
   "name": "python3"
  },
  "language_info": {
   "codemirror_mode": {
    "name": "ipython",
    "version": 3
   },
   "file_extension": ".py",
   "mimetype": "text/x-python",
   "name": "python",
   "nbconvert_exporter": "python",
   "pygments_lexer": "ipython3",
   "version": "3.8.5"
  }
 },
 "nbformat": 4,
 "nbformat_minor": 4
}
